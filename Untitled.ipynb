{
 "cells": [
  {
   "cell_type": "code",
   "execution_count": 1,
   "id": "30e90bc9-ee0e-4bb2-8360-1562424ce78a",
   "metadata": {},
   "outputs": [],
   "source": [
    "import cv2\n",
    "import numpy as np\n",
    "import pandas as pd\n",
    "import matplotlib.pyplot as plt\n",
    "import os\n",
    "from os import listdir"
   ]
  },
  {
   "cell_type": "code",
   "execution_count": 2,
   "id": "cd9b26d9-e5fa-4a73-b9f3-cdb201390dae",
   "metadata": {},
   "outputs": [],
   "source": [
    "folder_dir = \"prospace_assignment/\"\n",
    "\n",
    "data=[]\n",
    "for image in os.listdir(folder_dir):\n",
    "     if (image.endswith(\".tif\")):\n",
    "        data.append(image)"
   ]
  },
  {
   "cell_type": "code",
   "execution_count": 3,
   "id": "905fef32-6044-4b14-9922-7a175c2f6697",
   "metadata": {},
   "outputs": [
    {
     "data": {
      "text/plain": [
       "6816"
      ]
     },
     "execution_count": 3,
     "metadata": {},
     "output_type": "execute_result"
    }
   ],
   "source": [
    "len(data)"
   ]
  },
  {
   "cell_type": "code",
   "execution_count": 6,
   "id": "c441c63a-b039-461d-8838-e73b8f82d84d",
   "metadata": {},
   "outputs": [],
   "source": [
    "data_list=[]\n",
    "for image in data:\n",
    "    cv_img=cv2.imread(os.path.join(folder_dir,image))\n",
    "    average_color_row=np.average(cv_img,axis=0)\n",
    "    average_color=np.average(average_color_row,axis=0)\n",
    "    r_val=average_color[0]\n",
    "    g_val=average_color[1]\n",
    "    b_val=average_color[2]\n",
    "    image_label=image\n",
    "    if (g_val-b_val)>=5:\n",
    "        class_label='lush'\n",
    "    elif (g_val-b_val)>=0 and (g_val-b_val)<5:\n",
    "        class_label='growing'\n",
    "    else:\n",
    "        class_label='no_crop'\n",
    "    \n",
    "    data_list.append({'Image Label':image_label,'Class':class_label})\n",
    "\n",
    "df=pd.DataFrame(data_list)"
   ]
  },
  {
   "cell_type": "code",
   "execution_count": 7,
   "id": "f5388731-9303-498f-a0db-14e3ef68e3b7",
   "metadata": {},
   "outputs": [
    {
     "data": {
      "text/html": [
       "<div>\n",
       "<style scoped>\n",
       "    .dataframe tbody tr th:only-of-type {\n",
       "        vertical-align: middle;\n",
       "    }\n",
       "\n",
       "    .dataframe tbody tr th {\n",
       "        vertical-align: top;\n",
       "    }\n",
       "\n",
       "    .dataframe thead th {\n",
       "        text-align: right;\n",
       "    }\n",
       "</style>\n",
       "<table border=\"1\" class=\"dataframe\">\n",
       "  <thead>\n",
       "    <tr style=\"text-align: right;\">\n",
       "      <th></th>\n",
       "      <th>Image Label</th>\n",
       "      <th>Class</th>\n",
       "    </tr>\n",
       "  </thead>\n",
       "  <tbody>\n",
       "    <tr>\n",
       "      <th>0</th>\n",
       "      <td>201_2023_2.tif</td>\n",
       "      <td>no_crop</td>\n",
       "    </tr>\n",
       "    <tr>\n",
       "      <th>1</th>\n",
       "      <td>453_2022_8.tif</td>\n",
       "      <td>growing</td>\n",
       "    </tr>\n",
       "    <tr>\n",
       "      <th>2</th>\n",
       "      <td>531_2022_6.tif</td>\n",
       "      <td>no_crop</td>\n",
       "    </tr>\n",
       "    <tr>\n",
       "      <th>3</th>\n",
       "      <td>403_2022_10.tif</td>\n",
       "      <td>lush</td>\n",
       "    </tr>\n",
       "    <tr>\n",
       "      <th>4</th>\n",
       "      <td>361_2022_7.tif</td>\n",
       "      <td>no_crop</td>\n",
       "    </tr>\n",
       "    <tr>\n",
       "      <th>...</th>\n",
       "      <td>...</td>\n",
       "      <td>...</td>\n",
       "    </tr>\n",
       "    <tr>\n",
       "      <th>6811</th>\n",
       "      <td>336_2022_10.tif</td>\n",
       "      <td>no_crop</td>\n",
       "    </tr>\n",
       "    <tr>\n",
       "      <th>6812</th>\n",
       "      <td>68_2022_4.tif</td>\n",
       "      <td>no_crop</td>\n",
       "    </tr>\n",
       "    <tr>\n",
       "      <th>6813</th>\n",
       "      <td>74_2023_0.tif</td>\n",
       "      <td>no_crop</td>\n",
       "    </tr>\n",
       "    <tr>\n",
       "      <th>6814</th>\n",
       "      <td>327_2023_0.tif</td>\n",
       "      <td>no_crop</td>\n",
       "    </tr>\n",
       "    <tr>\n",
       "      <th>6815</th>\n",
       "      <td>23_2022_6.tif</td>\n",
       "      <td>no_crop</td>\n",
       "    </tr>\n",
       "  </tbody>\n",
       "</table>\n",
       "<p>6816 rows × 2 columns</p>\n",
       "</div>"
      ],
      "text/plain": [
       "          Image Label    Class\n",
       "0      201_2023_2.tif  no_crop\n",
       "1      453_2022_8.tif  growing\n",
       "2      531_2022_6.tif  no_crop\n",
       "3     403_2022_10.tif     lush\n",
       "4      361_2022_7.tif  no_crop\n",
       "...               ...      ...\n",
       "6811  336_2022_10.tif  no_crop\n",
       "6812    68_2022_4.tif  no_crop\n",
       "6813    74_2023_0.tif  no_crop\n",
       "6814   327_2023_0.tif  no_crop\n",
       "6815    23_2022_6.tif  no_crop\n",
       "\n",
       "[6816 rows x 2 columns]"
      ]
     },
     "execution_count": 7,
     "metadata": {},
     "output_type": "execute_result"
    }
   ],
   "source": [
    "df"
   ]
  },
  {
   "cell_type": "code",
   "execution_count": 8,
   "id": "417536b3-d18a-41d2-94de-dcd17a7541fb",
   "metadata": {},
   "outputs": [],
   "source": [
    "df.to_csv('labels.csv')"
   ]
  },
  {
   "cell_type": "code",
   "execution_count": null,
   "id": "0c7588dd-f501-4961-a979-9b26f3ca26a9",
   "metadata": {},
   "outputs": [],
   "source": []
  }
 ],
 "metadata": {
  "kernelspec": {
   "display_name": "Python 3 (ipykernel)",
   "language": "python",
   "name": "python3"
  },
  "language_info": {
   "codemirror_mode": {
    "name": "ipython",
    "version": 3
   },
   "file_extension": ".py",
   "mimetype": "text/x-python",
   "name": "python",
   "nbconvert_exporter": "python",
   "pygments_lexer": "ipython3",
   "version": "3.10.12"
  }
 },
 "nbformat": 4,
 "nbformat_minor": 5
}
